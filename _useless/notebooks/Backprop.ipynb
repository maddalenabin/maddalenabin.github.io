{
 "cells": [
  {
   "cell_type": "code",
   "execution_count": 1,
   "metadata": {},
   "outputs": [],
   "source": [
    "import torch\n",
    "import torch.nn as nn\n",
    "import numpy as np\n",
    "import math"
   ]
  },
  {
   "cell_type": "code",
   "execution_count": 191,
   "metadata": {},
   "outputs": [
    {
     "data": {
      "text/plain": [
       "tensor([0.4741], grad_fn=<MvBackward>)"
      ]
     },
     "execution_count": 191,
     "metadata": {},
     "output_type": "execute_result"
    }
   ],
   "source": [
    "x1 = torch.tensor([[1],[2.]])\n",
    "W1 = torch.tensor([[1,2.],\n",
    "                   [-1,3]], requires_grad=True)\n",
    "W2 = torch.tensor([[1,-1.],\n",
    "                   [1,2]], requires_grad=True)\n",
    "W3 = torch.tensor([[-1,2.],\n",
    "                  [0,1]], requires_grad=True)\n",
    "phi1 = torch.relu\n",
    "phi2 = torch.sigmoid\n",
    "phi3 = torch.softmax\n",
    "l = lambda yh,t: - t.view(1,-1) @ torch.log(yh)\n",
    "t = torch.tensor([[1], [0.]])\n",
    "# same result:\n",
    "# sl = nn.NLLLoss(reduction=\"sum\")\n",
    "# sl(torch.log_softmax(z3,0).view(1,-1), torch.max(t, 0)[1])\n",
    "grad = lambda x: x.clone().detach().requires_grad_(True)\n",
    "\n",
    "z1 = W1@x1\n",
    "x2 = phi1(z1)\n",
    "z2 = W2@x2\n",
    "#z2 = grad(z2)\n",
    "x3 = phi2(z2)\n",
    "#x3 = grad(x3)\n",
    "z3 = W3@x3\n",
    "yh = phi3(z3, 0)\n",
    "E = l(yh.flatten(),t) \n",
    "T = lambda A: A.transpose(0,1)\n",
    "\n",
    "E.backward()\n",
    "E"
   ]
  },
  {
   "cell_type": "code",
   "execution_count": 192,
   "metadata": {},
   "outputs": [
    {
     "name": "stdout",
     "output_type": "stream",
     "text": [
      "tensor([[-0.1888, -0.3775],\n",
      "        [ 0.1888,  0.3775]])\n",
      "tensor([[ 4.7193e-01,  4.7193e-01],\n",
      "        [-6.7510e-07, -6.7510e-07]])\n",
      "tensor([[ 0.0944,  0.1888],\n",
      "        [-0.0944, -0.1888]])\n"
     ]
    }
   ],
   "source": [
    "with torch.no_grad():\n",
    "    dy = -t/yh\n",
    "    dsoft = torch.tensor([[yh[0,0]*(1-yh[0,0]), -yh[0,0]*yh[1,0]],\n",
    "                        [-yh[0,0]*yh[1,0], yh[1,0]*(1-yh[1,0])]])\n",
    "    dsig = torch.diag((x3 * (1-x3)).flatten())\n",
    "    drelu = torch.diag((z1 > 0).to(torch.float).flatten())\n",
    "    \n",
    "    dz3 = dsoft @ dy\n",
    "    dz2 = dsig @ (T(W3) @ dz3)\n",
    "    dz1 = drelu @ (T(W2) @ dz2)\n",
    "    \n",
    "    dw3 = dz3 @ T(x3)\n",
    "    dw2 = dz2 @ T(x2)\n",
    "    dw1 = dz1 @ T(x1)\n",
    "    \n",
    "    print(dw3)\n",
    "    print(dw2)\n",
    "    print(dw1)"
   ]
  },
  {
   "cell_type": "code",
   "execution_count": 193,
   "metadata": {},
   "outputs": [
    {
     "name": "stdout",
     "output_type": "stream",
     "text": [
      "tensor([[-0.1888, -0.3775],\n",
      "        [ 0.1888,  0.3775]])\n",
      "tensor([[ 4.7193e-01,  4.7193e-01],\n",
      "        [-6.7510e-07, -6.7510e-07]])\n",
      "tensor([[ 0.0944,  0.1888],\n",
      "        [-0.0944, -0.1888]])\n"
     ]
    }
   ],
   "source": [
    "print(W3.grad)\n",
    "print(W2.grad)\n",
    "print(W1.grad)"
   ]
  },
  {
   "cell_type": "code",
   "execution_count": 50,
   "metadata": {},
   "outputs": [
    {
     "data": {
      "text/plain": [
       "tensor([[-0.3775],\n",
       "        [ 0.3775]])"
      ]
     },
     "execution_count": 50,
     "metadata": {},
     "output_type": "execute_result"
    }
   ],
   "source": [
    "dz3"
   ]
  },
  {
   "cell_type": "code",
   "execution_count": 52,
   "metadata": {},
   "outputs": [
    {
     "data": {
      "text/plain": [
       "tensor([[0., 0.],\n",
       "        [0., 0.]])"
      ]
     },
     "execution_count": 52,
     "metadata": {},
     "output_type": "execute_result"
    }
   ],
   "source": [
    "dw2"
   ]
  },
  {
   "cell_type": "code",
   "execution_count": 47,
   "metadata": {},
   "outputs": [
    {
     "data": {
      "text/plain": [
       "tensor([[ 4.7193e-01,  4.7193e-01],\n",
       "        [-6.7510e-07, -6.7510e-07]])"
      ]
     },
     "execution_count": 47,
     "metadata": {},
     "output_type": "execute_result"
    }
   ],
   "source": [
    "W2.grad"
   ]
  },
  {
   "cell_type": "code",
   "execution_count": 21,
   "metadata": {},
   "outputs": [],
   "source": []
  },
  {
   "cell_type": "code",
   "execution_count": 22,
   "metadata": {},
   "outputs": [
    {
     "data": {
      "text/plain": [
       "tensor([[-0.1888, -0.3775],\n",
       "        [ 0.1888,  0.3775]])"
      ]
     },
     "execution_count": 22,
     "metadata": {},
     "output_type": "execute_result"
    }
   ],
   "source": [
    "W3.grad"
   ]
  },
  {
   "cell_type": "code",
   "execution_count": 23,
   "metadata": {},
   "outputs": [
    {
     "data": {
      "text/plain": [
       "tensor([[-0.1888, -0.3775],\n",
       "        [ 0.1888,  0.3775]], grad_fn=<MmBackward>)"
      ]
     },
     "execution_count": 23,
     "metadata": {},
     "output_type": "execute_result"
    }
   ],
   "source": [
    "dw3"
   ]
  },
  {
   "cell_type": "code",
   "execution_count": null,
   "metadata": {},
   "outputs": [],
   "source": []
  }
 ],
 "metadata": {
  "kernelspec": {
   "display_name": "Python 3",
   "language": "python",
   "name": "python3"
  },
  "language_info": {
   "codemirror_mode": {
    "name": "ipython",
    "version": 3
   },
   "file_extension": ".py",
   "mimetype": "text/x-python",
   "name": "python",
   "nbconvert_exporter": "python",
   "pygments_lexer": "ipython3",
   "version": "3.7.0"
  }
 },
 "nbformat": 4,
 "nbformat_minor": 2
}
